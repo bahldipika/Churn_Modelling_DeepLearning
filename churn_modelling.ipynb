{
  "nbformat": 4,
  "nbformat_minor": 0,
  "metadata": {
    "colab": {
      "name": "churn_modelling.ipynb",
      "provenance": [],
      "collapsed_sections": []
    },
    "kernelspec": {
      "name": "python3",
      "display_name": "Python 3"
    },
    "language_info": {
      "name": "python"
    },
    "accelerator": "GPU"
  },
  "cells": [
    {
      "cell_type": "markdown",
      "metadata": {
        "id": "v3PYvqhRr69p"
      },
      "source": [
        ""
      ]
    },
    {
      "cell_type": "code",
      "metadata": {
        "id": "n5VSwC-XvPRf"
      },
      "source": [
        "import tensorflow\n",
        "import joblib"
      ],
      "execution_count": 1,
      "outputs": []
    },
    {
      "cell_type": "code",
      "metadata": {
        "colab": {
          "base_uri": "https://localhost:8080/",
          "height": 35
        },
        "id": "qw3ih2GZsXSp",
        "outputId": "1cd2b30a-6e6f-45ec-888c-34cb57c51ae1"
      },
      "source": [
        "tensorflow.__version__\n"
      ],
      "execution_count": 2,
      "outputs": [
        {
          "output_type": "execute_result",
          "data": {
            "application/vnd.google.colaboratory.intrinsic+json": {
              "type": "string"
            },
            "text/plain": [
              "'2.5.0'"
            ]
          },
          "metadata": {
            "tags": []
          },
          "execution_count": 2
        }
      ]
    },
    {
      "cell_type": "code",
      "metadata": {
        "id": "L5mCpG5usZ0n"
      },
      "source": [
        "import pandas as pd\n",
        "import numpy as np\n",
        "from sklearn.model_selection import train_test_split\n",
        "from sklearn.preprocessing import StandardScaler\n",
        "from sklearn.metrics import confusion_matrix\n",
        "\n",
        "#import tensoflow libraries\n",
        "from tensorflow.keras.models import Sequential\n",
        "from tensorflow.keras.layers import Dense,Dropout\n",
        "\n"
      ],
      "execution_count": 3,
      "outputs": []
    },
    {
      "cell_type": "code",
      "metadata": {
        "colab": {
          "base_uri": "https://localhost:8080/"
        },
        "id": "5csCOl6jttW6",
        "outputId": "25fe3a3b-15b9-4da6-d7f2-fbf80e7d7da1"
      },
      "source": [
        "#load the data\n",
        "\n",
        "!ls"
      ],
      "execution_count": 4,
      "outputs": [
        {
          "output_type": "stream",
          "text": [
            "drive  sample_data\n"
          ],
          "name": "stdout"
        }
      ]
    },
    {
      "cell_type": "code",
      "metadata": {
        "colab": {
          "base_uri": "https://localhost:8080/"
        },
        "id": "8XdNgpjiuBKI",
        "outputId": "349f250f-b976-49af-afca-76e3793df58e"
      },
      "source": [
        "ls"
      ],
      "execution_count": 5,
      "outputs": [
        {
          "output_type": "stream",
          "text": [
            "\u001b[0m\u001b[01;34mdrive\u001b[0m/  \u001b[01;34msample_data\u001b[0m/\n"
          ],
          "name": "stdout"
        }
      ]
    },
    {
      "cell_type": "code",
      "metadata": {
        "colab": {
          "base_uri": "https://localhost:8080/"
        },
        "id": "Ei6_BJxiizst",
        "outputId": "e664577b-488d-4ed6-d393-19ae4cd2888e"
      },
      "source": [
        "cd drive"
      ],
      "execution_count": 6,
      "outputs": [
        {
          "output_type": "stream",
          "text": [
            "/content/drive\n"
          ],
          "name": "stdout"
        }
      ]
    },
    {
      "cell_type": "code",
      "metadata": {
        "colab": {
          "base_uri": "https://localhost:8080/"
        },
        "id": "NTL1A4t8i9DI",
        "outputId": "fe650a81-3603-4269-970a-c2dfb00bbd68"
      },
      "source": [
        "cd MyDrive"
      ],
      "execution_count": 10,
      "outputs": [
        {
          "output_type": "stream",
          "text": [
            "[Errno 2] No such file or directory: 'MyDrive'\n",
            "/content/drive/MyDrive\n"
          ],
          "name": "stdout"
        }
      ]
    },
    {
      "cell_type": "code",
      "metadata": {
        "id": "u_mUxLSejD4Y"
      },
      "source": [
        ""
      ],
      "execution_count": 10,
      "outputs": []
    },
    {
      "cell_type": "code",
      "metadata": {
        "id": "2Lj77qPht4oD"
      },
      "source": [
        "df=pd.read_csv('Churn_Modelling.csv')"
      ],
      "execution_count": 11,
      "outputs": []
    },
    {
      "cell_type": "code",
      "metadata": {
        "colab": {
          "base_uri": "https://localhost:8080/",
          "height": 402
        },
        "id": "Rs8WznIbuHwR",
        "outputId": "cb4f9131-62d1-437b-ebb8-1bda6e5f4877"
      },
      "source": [
        "df"
      ],
      "execution_count": 12,
      "outputs": [
        {
          "output_type": "execute_result",
          "data": {
            "text/html": [
              "<div>\n",
              "<style scoped>\n",
              "    .dataframe tbody tr th:only-of-type {\n",
              "        vertical-align: middle;\n",
              "    }\n",
              "\n",
              "    .dataframe tbody tr th {\n",
              "        vertical-align: top;\n",
              "    }\n",
              "\n",
              "    .dataframe thead th {\n",
              "        text-align: right;\n",
              "    }\n",
              "</style>\n",
              "<table border=\"1\" class=\"dataframe\">\n",
              "  <thead>\n",
              "    <tr style=\"text-align: right;\">\n",
              "      <th></th>\n",
              "      <th>RowNumber</th>\n",
              "      <th>CustomerId</th>\n",
              "      <th>Surname</th>\n",
              "      <th>CreditScore</th>\n",
              "      <th>Geography</th>\n",
              "      <th>Gender</th>\n",
              "      <th>Age</th>\n",
              "      <th>Tenure</th>\n",
              "      <th>Balance</th>\n",
              "      <th>NumOfProducts</th>\n",
              "      <th>HasCrCard</th>\n",
              "      <th>IsActiveMember</th>\n",
              "      <th>EstimatedSalary</th>\n",
              "      <th>Exited</th>\n",
              "    </tr>\n",
              "  </thead>\n",
              "  <tbody>\n",
              "    <tr>\n",
              "      <th>0</th>\n",
              "      <td>1</td>\n",
              "      <td>15634602</td>\n",
              "      <td>Hargrave</td>\n",
              "      <td>619</td>\n",
              "      <td>France</td>\n",
              "      <td>Female</td>\n",
              "      <td>42</td>\n",
              "      <td>2</td>\n",
              "      <td>0.00</td>\n",
              "      <td>1</td>\n",
              "      <td>1</td>\n",
              "      <td>1</td>\n",
              "      <td>101348.88</td>\n",
              "      <td>1</td>\n",
              "    </tr>\n",
              "    <tr>\n",
              "      <th>1</th>\n",
              "      <td>2</td>\n",
              "      <td>15647311</td>\n",
              "      <td>Hill</td>\n",
              "      <td>608</td>\n",
              "      <td>Spain</td>\n",
              "      <td>Female</td>\n",
              "      <td>41</td>\n",
              "      <td>1</td>\n",
              "      <td>83807.86</td>\n",
              "      <td>1</td>\n",
              "      <td>0</td>\n",
              "      <td>1</td>\n",
              "      <td>112542.58</td>\n",
              "      <td>0</td>\n",
              "    </tr>\n",
              "    <tr>\n",
              "      <th>2</th>\n",
              "      <td>3</td>\n",
              "      <td>15619304</td>\n",
              "      <td>Onio</td>\n",
              "      <td>502</td>\n",
              "      <td>France</td>\n",
              "      <td>Female</td>\n",
              "      <td>42</td>\n",
              "      <td>8</td>\n",
              "      <td>159660.80</td>\n",
              "      <td>3</td>\n",
              "      <td>1</td>\n",
              "      <td>0</td>\n",
              "      <td>113931.57</td>\n",
              "      <td>1</td>\n",
              "    </tr>\n",
              "    <tr>\n",
              "      <th>3</th>\n",
              "      <td>4</td>\n",
              "      <td>15701354</td>\n",
              "      <td>Boni</td>\n",
              "      <td>699</td>\n",
              "      <td>France</td>\n",
              "      <td>Female</td>\n",
              "      <td>39</td>\n",
              "      <td>1</td>\n",
              "      <td>0.00</td>\n",
              "      <td>2</td>\n",
              "      <td>0</td>\n",
              "      <td>0</td>\n",
              "      <td>93826.63</td>\n",
              "      <td>0</td>\n",
              "    </tr>\n",
              "    <tr>\n",
              "      <th>4</th>\n",
              "      <td>5</td>\n",
              "      <td>15737888</td>\n",
              "      <td>Mitchell</td>\n",
              "      <td>850</td>\n",
              "      <td>Spain</td>\n",
              "      <td>Female</td>\n",
              "      <td>43</td>\n",
              "      <td>2</td>\n",
              "      <td>125510.82</td>\n",
              "      <td>1</td>\n",
              "      <td>1</td>\n",
              "      <td>1</td>\n",
              "      <td>79084.10</td>\n",
              "      <td>0</td>\n",
              "    </tr>\n",
              "    <tr>\n",
              "      <th>...</th>\n",
              "      <td>...</td>\n",
              "      <td>...</td>\n",
              "      <td>...</td>\n",
              "      <td>...</td>\n",
              "      <td>...</td>\n",
              "      <td>...</td>\n",
              "      <td>...</td>\n",
              "      <td>...</td>\n",
              "      <td>...</td>\n",
              "      <td>...</td>\n",
              "      <td>...</td>\n",
              "      <td>...</td>\n",
              "      <td>...</td>\n",
              "      <td>...</td>\n",
              "    </tr>\n",
              "    <tr>\n",
              "      <th>9995</th>\n",
              "      <td>9996</td>\n",
              "      <td>15606229</td>\n",
              "      <td>Obijiaku</td>\n",
              "      <td>771</td>\n",
              "      <td>France</td>\n",
              "      <td>Male</td>\n",
              "      <td>39</td>\n",
              "      <td>5</td>\n",
              "      <td>0.00</td>\n",
              "      <td>2</td>\n",
              "      <td>1</td>\n",
              "      <td>0</td>\n",
              "      <td>96270.64</td>\n",
              "      <td>0</td>\n",
              "    </tr>\n",
              "    <tr>\n",
              "      <th>9996</th>\n",
              "      <td>9997</td>\n",
              "      <td>15569892</td>\n",
              "      <td>Johnstone</td>\n",
              "      <td>516</td>\n",
              "      <td>France</td>\n",
              "      <td>Male</td>\n",
              "      <td>35</td>\n",
              "      <td>10</td>\n",
              "      <td>57369.61</td>\n",
              "      <td>1</td>\n",
              "      <td>1</td>\n",
              "      <td>1</td>\n",
              "      <td>101699.77</td>\n",
              "      <td>0</td>\n",
              "    </tr>\n",
              "    <tr>\n",
              "      <th>9997</th>\n",
              "      <td>9998</td>\n",
              "      <td>15584532</td>\n",
              "      <td>Liu</td>\n",
              "      <td>709</td>\n",
              "      <td>France</td>\n",
              "      <td>Female</td>\n",
              "      <td>36</td>\n",
              "      <td>7</td>\n",
              "      <td>0.00</td>\n",
              "      <td>1</td>\n",
              "      <td>0</td>\n",
              "      <td>1</td>\n",
              "      <td>42085.58</td>\n",
              "      <td>1</td>\n",
              "    </tr>\n",
              "    <tr>\n",
              "      <th>9998</th>\n",
              "      <td>9999</td>\n",
              "      <td>15682355</td>\n",
              "      <td>Sabbatini</td>\n",
              "      <td>772</td>\n",
              "      <td>Germany</td>\n",
              "      <td>Male</td>\n",
              "      <td>42</td>\n",
              "      <td>3</td>\n",
              "      <td>75075.31</td>\n",
              "      <td>2</td>\n",
              "      <td>1</td>\n",
              "      <td>0</td>\n",
              "      <td>92888.52</td>\n",
              "      <td>1</td>\n",
              "    </tr>\n",
              "    <tr>\n",
              "      <th>9999</th>\n",
              "      <td>10000</td>\n",
              "      <td>15628319</td>\n",
              "      <td>Walker</td>\n",
              "      <td>792</td>\n",
              "      <td>France</td>\n",
              "      <td>Female</td>\n",
              "      <td>28</td>\n",
              "      <td>4</td>\n",
              "      <td>130142.79</td>\n",
              "      <td>1</td>\n",
              "      <td>1</td>\n",
              "      <td>0</td>\n",
              "      <td>38190.78</td>\n",
              "      <td>0</td>\n",
              "    </tr>\n",
              "  </tbody>\n",
              "</table>\n",
              "<p>10000 rows × 14 columns</p>\n",
              "</div>"
            ],
            "text/plain": [
              "      RowNumber  CustomerId    Surname  ...  IsActiveMember EstimatedSalary Exited\n",
              "0             1    15634602   Hargrave  ...               1       101348.88      1\n",
              "1             2    15647311       Hill  ...               1       112542.58      0\n",
              "2             3    15619304       Onio  ...               0       113931.57      1\n",
              "3             4    15701354       Boni  ...               0        93826.63      0\n",
              "4             5    15737888   Mitchell  ...               1        79084.10      0\n",
              "...         ...         ...        ...  ...             ...             ...    ...\n",
              "9995       9996    15606229   Obijiaku  ...               0        96270.64      0\n",
              "9996       9997    15569892  Johnstone  ...               1       101699.77      0\n",
              "9997       9998    15584532        Liu  ...               1        42085.58      1\n",
              "9998       9999    15682355  Sabbatini  ...               0        92888.52      1\n",
              "9999      10000    15628319     Walker  ...               0        38190.78      0\n",
              "\n",
              "[10000 rows x 14 columns]"
            ]
          },
          "metadata": {
            "tags": []
          },
          "execution_count": 12
        }
      ]
    },
    {
      "cell_type": "code",
      "metadata": {
        "id": "nx0XAtLEuVn2"
      },
      "source": [
        "X=df.iloc[: ,3:13]\n",
        "y=df.iloc[: ,13]\n"
      ],
      "execution_count": 13,
      "outputs": []
    },
    {
      "cell_type": "markdown",
      "metadata": {
        "id": "puAdg5USKqpv"
      },
      "source": [
        ""
      ]
    },
    {
      "cell_type": "code",
      "metadata": {
        "id": "7P-eFG5xuVVn"
      },
      "source": [
        "geography=pd.get_dummies(X['Geography'],drop_first=True)\n",
        "gender=pd.get_dummies(X['Gender'],drop_first=True)"
      ],
      "execution_count": 14,
      "outputs": []
    },
    {
      "cell_type": "code",
      "metadata": {
        "id": "LzZxJ4vsj5Wi"
      },
      "source": [
        "X=pd.concat([X,geography,gender],axis=1)\n"
      ],
      "execution_count": 15,
      "outputs": []
    },
    {
      "cell_type": "code",
      "metadata": {
        "id": "1gILbgs_kKW2"
      },
      "source": [
        "X=X.drop(columns=['Geography','Gender'],axis=1)"
      ],
      "execution_count": 16,
      "outputs": []
    },
    {
      "cell_type": "code",
      "metadata": {
        "id": "wKgQ5iuAkeWo"
      },
      "source": [
        "X_train,X_test,y_train,y_test=train_test_split(X,y,test_size=0.2,random_state=101)"
      ],
      "execution_count": 18,
      "outputs": []
    },
    {
      "cell_type": "code",
      "metadata": {
        "id": "hem3NWm2kePZ"
      },
      "source": [
        "#feature scaling for scaling of data\n"
      ],
      "execution_count": 19,
      "outputs": []
    },
    {
      "cell_type": "code",
      "metadata": {
        "id": "8dFoeFqHotAQ"
      },
      "source": [
        "sc=StandardScaler()\n",
        "X_train=sc.fit_transform(X_train)\n",
        "X_test=sc.transform(X_test)"
      ],
      "execution_count": 20,
      "outputs": []
    },
    {
      "cell_type": "code",
      "metadata": {
        "id": "rTKFaG8ArvHI",
        "colab": {
          "base_uri": "https://localhost:8080/",
          "height": 128
        },
        "outputId": "986673a0-c138-4ba3-a69b-959aedd09e89"
      },
      "source": [
        "#model architecture\n",
        "#model compilation\n",
        "#training model or model fit"
      ],
      "execution_count": 21,
      "outputs": [
        {
          "output_type": "error",
          "ename": "SyntaxError",
          "evalue": "ignored",
          "traceback": [
            "\u001b[0;36m  File \u001b[0;32m\"<ipython-input-21-7f25b56c91b4>\"\u001b[0;36m, line \u001b[0;32m1\u001b[0m\n\u001b[0;31m    model architecture\u001b[0m\n\u001b[0m                     ^\u001b[0m\n\u001b[0;31mSyntaxError\u001b[0m\u001b[0;31m:\u001b[0m invalid syntax\n"
          ]
        }
      ]
    },
    {
      "cell_type": "code",
      "metadata": {
        "id": "n5phSthzsPVU"
      },
      "source": [
        "#creation of model\n",
        "model=Sequential(\n",
        "    [\n",
        "     Dense(100,activation='sigmoid'),  #hidden layer1\n",
        "     Dense(50,activation='relu',kernel_initializer='he_uniform'),  #hidden layer2\n",
        "     Dense(25,activation='sigmoid'),  #hidden layer3\n",
        "     Dense(1,activation='sigmoid')  #output layer\n",
        "    ]\n",
        ")"
      ],
      "execution_count": 22,
      "outputs": []
    },
    {
      "cell_type": "code",
      "metadata": {
        "id": "zjgl3WrLuo11"
      },
      "source": [
        "model.compile(optimizer='SGD',loss='binary_crossentropy',metrics=['accuracy'])"
      ],
      "execution_count": 23,
      "outputs": []
    },
    {
      "cell_type": "code",
      "metadata": {
        "colab": {
          "base_uri": "https://localhost:8080/"
        },
        "id": "KX4GaaEUuoyC",
        "outputId": "b9c5f2d1-1cbb-4943-f702-f0d3fab37a61"
      },
      "source": [
        "#model training\n",
        "history=model.fit(X_train,y_train,epochs=50,batch_size=32,validation_split=0.2)"
      ],
      "execution_count": 24,
      "outputs": [
        {
          "output_type": "stream",
          "text": [
            "Epoch 1/50\n",
            "200/200 [==============================] - 4s 3ms/step - loss: 0.5352 - accuracy: 0.7675 - val_loss: 0.4934 - val_accuracy: 0.8037\n",
            "Epoch 2/50\n",
            "200/200 [==============================] - 0s 2ms/step - loss: 0.5032 - accuracy: 0.7969 - val_loss: 0.4924 - val_accuracy: 0.8037\n",
            "Epoch 3/50\n",
            "200/200 [==============================] - 0s 2ms/step - loss: 0.5020 - accuracy: 0.7969 - val_loss: 0.4911 - val_accuracy: 0.8037\n",
            "Epoch 4/50\n",
            "200/200 [==============================] - 0s 2ms/step - loss: 0.5008 - accuracy: 0.7969 - val_loss: 0.4897 - val_accuracy: 0.8037\n",
            "Epoch 5/50\n",
            "200/200 [==============================] - 0s 2ms/step - loss: 0.4993 - accuracy: 0.7969 - val_loss: 0.4891 - val_accuracy: 0.8037\n",
            "Epoch 6/50\n",
            "200/200 [==============================] - 0s 2ms/step - loss: 0.4982 - accuracy: 0.7969 - val_loss: 0.4868 - val_accuracy: 0.8037\n",
            "Epoch 7/50\n",
            "200/200 [==============================] - 0s 2ms/step - loss: 0.4967 - accuracy: 0.7969 - val_loss: 0.4852 - val_accuracy: 0.8037\n",
            "Epoch 8/50\n",
            "200/200 [==============================] - 0s 2ms/step - loss: 0.4950 - accuracy: 0.7969 - val_loss: 0.4837 - val_accuracy: 0.8037\n",
            "Epoch 9/50\n",
            "200/200 [==============================] - 0s 2ms/step - loss: 0.4931 - accuracy: 0.7969 - val_loss: 0.4818 - val_accuracy: 0.8037\n",
            "Epoch 10/50\n",
            "200/200 [==============================] - 0s 2ms/step - loss: 0.4912 - accuracy: 0.7969 - val_loss: 0.4790 - val_accuracy: 0.8037\n",
            "Epoch 11/50\n",
            "200/200 [==============================] - 0s 2ms/step - loss: 0.4889 - accuracy: 0.7969 - val_loss: 0.4766 - val_accuracy: 0.8037\n",
            "Epoch 12/50\n",
            "200/200 [==============================] - 0s 2ms/step - loss: 0.4867 - accuracy: 0.7969 - val_loss: 0.4743 - val_accuracy: 0.8037\n",
            "Epoch 13/50\n",
            "200/200 [==============================] - 0s 2ms/step - loss: 0.4842 - accuracy: 0.7969 - val_loss: 0.4712 - val_accuracy: 0.8037\n",
            "Epoch 14/50\n",
            "200/200 [==============================] - 0s 2ms/step - loss: 0.4813 - accuracy: 0.7969 - val_loss: 0.4686 - val_accuracy: 0.8037\n",
            "Epoch 15/50\n",
            "200/200 [==============================] - 0s 2ms/step - loss: 0.4785 - accuracy: 0.7969 - val_loss: 0.4649 - val_accuracy: 0.8037\n",
            "Epoch 16/50\n",
            "200/200 [==============================] - 0s 2ms/step - loss: 0.4752 - accuracy: 0.7969 - val_loss: 0.4610 - val_accuracy: 0.8037\n",
            "Epoch 17/50\n",
            "200/200 [==============================] - 0s 2ms/step - loss: 0.4720 - accuracy: 0.7969 - val_loss: 0.4573 - val_accuracy: 0.8037\n",
            "Epoch 18/50\n",
            "200/200 [==============================] - 0s 2ms/step - loss: 0.4684 - accuracy: 0.7969 - val_loss: 0.4532 - val_accuracy: 0.8037\n",
            "Epoch 19/50\n",
            "200/200 [==============================] - 0s 2ms/step - loss: 0.4647 - accuracy: 0.7969 - val_loss: 0.4492 - val_accuracy: 0.8037\n",
            "Epoch 20/50\n",
            "200/200 [==============================] - 0s 2ms/step - loss: 0.4610 - accuracy: 0.7969 - val_loss: 0.4452 - val_accuracy: 0.8037\n",
            "Epoch 21/50\n",
            "200/200 [==============================] - 0s 2ms/step - loss: 0.4575 - accuracy: 0.7967 - val_loss: 0.4407 - val_accuracy: 0.8037\n",
            "Epoch 22/50\n",
            "200/200 [==============================] - 0s 2ms/step - loss: 0.4539 - accuracy: 0.7967 - val_loss: 0.4367 - val_accuracy: 0.8037\n",
            "Epoch 23/50\n",
            "200/200 [==============================] - 0s 2ms/step - loss: 0.4506 - accuracy: 0.7969 - val_loss: 0.4330 - val_accuracy: 0.8044\n",
            "Epoch 24/50\n",
            "200/200 [==============================] - 0s 2ms/step - loss: 0.4476 - accuracy: 0.7986 - val_loss: 0.4297 - val_accuracy: 0.8044\n",
            "Epoch 25/50\n",
            "200/200 [==============================] - 0s 2ms/step - loss: 0.4448 - accuracy: 0.8006 - val_loss: 0.4264 - val_accuracy: 0.8056\n",
            "Epoch 26/50\n",
            "200/200 [==============================] - 0s 2ms/step - loss: 0.4423 - accuracy: 0.8019 - val_loss: 0.4237 - val_accuracy: 0.8069\n",
            "Epoch 27/50\n",
            "200/200 [==============================] - 0s 2ms/step - loss: 0.4405 - accuracy: 0.8039 - val_loss: 0.4214 - val_accuracy: 0.8112\n",
            "Epoch 28/50\n",
            "200/200 [==============================] - 0s 2ms/step - loss: 0.4387 - accuracy: 0.8045 - val_loss: 0.4192 - val_accuracy: 0.8131\n",
            "Epoch 29/50\n",
            "200/200 [==============================] - 0s 2ms/step - loss: 0.4370 - accuracy: 0.8056 - val_loss: 0.4189 - val_accuracy: 0.8219\n",
            "Epoch 30/50\n",
            "200/200 [==============================] - 0s 2ms/step - loss: 0.4360 - accuracy: 0.8069 - val_loss: 0.4161 - val_accuracy: 0.8163\n",
            "Epoch 31/50\n",
            "200/200 [==============================] - 0s 2ms/step - loss: 0.4347 - accuracy: 0.8072 - val_loss: 0.4152 - val_accuracy: 0.8169\n",
            "Epoch 32/50\n",
            "200/200 [==============================] - 0s 2ms/step - loss: 0.4339 - accuracy: 0.8089 - val_loss: 0.4139 - val_accuracy: 0.8206\n",
            "Epoch 33/50\n",
            "200/200 [==============================] - 0s 2ms/step - loss: 0.4332 - accuracy: 0.8094 - val_loss: 0.4130 - val_accuracy: 0.8219\n",
            "Epoch 34/50\n",
            "200/200 [==============================] - 0s 2ms/step - loss: 0.4327 - accuracy: 0.8109 - val_loss: 0.4124 - val_accuracy: 0.8219\n",
            "Epoch 35/50\n",
            "200/200 [==============================] - 0s 2ms/step - loss: 0.4320 - accuracy: 0.8094 - val_loss: 0.4116 - val_accuracy: 0.8213\n",
            "Epoch 36/50\n",
            "200/200 [==============================] - 0s 2ms/step - loss: 0.4313 - accuracy: 0.8087 - val_loss: 0.4112 - val_accuracy: 0.8231\n",
            "Epoch 37/50\n",
            "200/200 [==============================] - 0s 2ms/step - loss: 0.4310 - accuracy: 0.8102 - val_loss: 0.4104 - val_accuracy: 0.8231\n",
            "Epoch 38/50\n",
            "200/200 [==============================] - 0s 2ms/step - loss: 0.4308 - accuracy: 0.8105 - val_loss: 0.4099 - val_accuracy: 0.8213\n",
            "Epoch 39/50\n",
            "200/200 [==============================] - 0s 2ms/step - loss: 0.4301 - accuracy: 0.8112 - val_loss: 0.4097 - val_accuracy: 0.8238\n",
            "Epoch 40/50\n",
            "200/200 [==============================] - 0s 2ms/step - loss: 0.4299 - accuracy: 0.8100 - val_loss: 0.4105 - val_accuracy: 0.8213\n",
            "Epoch 41/50\n",
            "200/200 [==============================] - 0s 2ms/step - loss: 0.4295 - accuracy: 0.8109 - val_loss: 0.4086 - val_accuracy: 0.8213\n",
            "Epoch 42/50\n",
            "200/200 [==============================] - 0s 2ms/step - loss: 0.4290 - accuracy: 0.8116 - val_loss: 0.4086 - val_accuracy: 0.8244\n",
            "Epoch 43/50\n",
            "200/200 [==============================] - 0s 2ms/step - loss: 0.4291 - accuracy: 0.8123 - val_loss: 0.4080 - val_accuracy: 0.8231\n",
            "Epoch 44/50\n",
            "200/200 [==============================] - 0s 2ms/step - loss: 0.4288 - accuracy: 0.8116 - val_loss: 0.4077 - val_accuracy: 0.8231\n",
            "Epoch 45/50\n",
            "200/200 [==============================] - 0s 2ms/step - loss: 0.4287 - accuracy: 0.8112 - val_loss: 0.4074 - val_accuracy: 0.8238\n",
            "Epoch 46/50\n",
            "200/200 [==============================] - 0s 2ms/step - loss: 0.4284 - accuracy: 0.8117 - val_loss: 0.4071 - val_accuracy: 0.8231\n",
            "Epoch 47/50\n",
            "200/200 [==============================] - 0s 2ms/step - loss: 0.4279 - accuracy: 0.8080 - val_loss: 0.4068 - val_accuracy: 0.8238\n",
            "Epoch 48/50\n",
            "200/200 [==============================] - 0s 2ms/step - loss: 0.4279 - accuracy: 0.8117 - val_loss: 0.4067 - val_accuracy: 0.8238\n",
            "Epoch 49/50\n",
            "200/200 [==============================] - 0s 2ms/step - loss: 0.4276 - accuracy: 0.8117 - val_loss: 0.4063 - val_accuracy: 0.8244\n",
            "Epoch 50/50\n",
            "200/200 [==============================] - 0s 2ms/step - loss: 0.4274 - accuracy: 0.8117 - val_loss: 0.4060 - val_accuracy: 0.8231\n"
          ],
          "name": "stdout"
        }
      ]
    },
    {
      "cell_type": "code",
      "metadata": {
        "id": "yDW8YUf-uomO"
      },
      "source": [
        ""
      ],
      "execution_count": null,
      "outputs": []
    },
    {
      "cell_type": "markdown",
      "metadata": {
        "id": "LUDXZe-n2hrM"
      },
      "source": [
        "NO of hidden layers\n",
        "optimizer\n",
        "epochs\n",
        "batch size\n",
        "loss\n",
        "activation\n",
        "units"
      ]
    },
    {
      "cell_type": "code",
      "metadata": {
        "colab": {
          "base_uri": "https://localhost:8080/",
          "height": 296
        },
        "id": "9UV7WXL23_dy",
        "outputId": "a7696ddb-263f-4b90-b659-2cb99df0c50c"
      },
      "source": [
        "import matplotlib.pyplot as plt\n",
        "plt.plot(history.history['accuracy'],label='train')\n",
        "plt.plot(history.history['val_accuracy'],label='value')\n",
        "plt.xlabel('epochs')\n",
        "plt.ylabel('accuracy')"
      ],
      "execution_count": 25,
      "outputs": [
        {
          "output_type": "execute_result",
          "data": {
            "text/plain": [
              "Text(0, 0.5, 'accuracy')"
            ]
          },
          "metadata": {
            "tags": []
          },
          "execution_count": 25
        },
        {
          "output_type": "display_data",
          "data": {
            "image/png": "[encoded data removed]",
            "text/plain": [
              "<Figure size 432x288 with 1 Axes>"
            ]
          },
          "metadata": {
            "tags": [],
            "needs_background": "light"
          }
        }
      ]
    },
    {
      "cell_type": "code",
      "metadata": {
        "colab": {
          "base_uri": "https://localhost:8080/"
        },
        "id": "zxRrASj95B3O",
        "outputId": "a3d5a54d-6167-4d13-cdba-4fdd6d3b70a0"
      },
      "source": [
        "y_pred=model.predict(X_test)\n",
        "y_pred\n",
        "y_pred_prob=y_pred>=0.7\n",
        "y_pred_prob"
      ],
      "execution_count": 26,
      "outputs": [
        {
          "output_type": "execute_result",
          "data": {
            "text/plain": [
              "array([[False],\n",
              "       [False],\n",
              "       [False],\n",
              "       ...,\n",
              "       [False],\n",
              "       [False],\n",
              "       [False]])"
            ]
          },
          "metadata": {
            "tags": []
          },
          "execution_count": 26
        }
      ]
    },
    {
      "cell_type": "code",
      "metadata": {
        "id": "AJQCTrom6U1e"
      },
      "source": [
        "from sklearn.metrics import confusion_matrix,accuracy_score"
      ],
      "execution_count": 27,
      "outputs": []
    },
    {
      "cell_type": "code",
      "metadata": {
        "colab": {
          "base_uri": "https://localhost:8080/"
        },
        "id": "eqzkbQM46VEQ",
        "outputId": "ddae5ebb-dab4-4dcb-e5f3-feaa06beea87"
      },
      "source": [
        "confusion_matrix(y_pred_prob,y_test)"
      ],
      "execution_count": 28,
      "outputs": [
        {
          "output_type": "execute_result",
          "data": {
            "text/plain": [
              "array([[1576,  420],\n",
              "       [   1,    3]])"
            ]
          },
          "metadata": {
            "tags": []
          },
          "execution_count": 28
        }
      ]
    },
    {
      "cell_type": "code",
      "metadata": {
        "colab": {
          "base_uri": "https://localhost:8080/"
        },
        "id": "bBgMw3Rh6VHc",
        "outputId": "9d2c8be1-aee2-4a41-c112-cf1040c8cf6a"
      },
      "source": [
        "accuracy_score(y_pred_prob,y_test)"
      ],
      "execution_count": 29,
      "outputs": [
        {
          "output_type": "execute_result",
          "data": {
            "text/plain": [
              "0.7895"
            ]
          },
          "metadata": {
            "tags": []
          },
          "execution_count": 29
        }
      ]
    },
    {
      "cell_type": "code",
      "metadata": {
        "id": "BBwWBM1a8XhP",
        "colab": {
          "base_uri": "https://localhost:8080/"
        },
        "outputId": "d1d2b741-308f-44a6-97ff-be8b59bf8e4a"
      },
      "source": [
        "model.save('chrun_model.h5')\n",
        "joblib.dump(sc , 'feature_scaling_model.pkl')\n"
      ],
      "execution_count": 30,
      "outputs": [
        {
          "output_type": "execute_result",
          "data": {
            "text/plain": [
              "['feature_scaling_model.pkl']"
            ]
          },
          "metadata": {
            "tags": []
          },
          "execution_count": 30
        }
      ]
    },
    {
      "cell_type": "code",
      "metadata": {
        "colab": {
          "base_uri": "https://localhost:8080/"
        },
        "id": "0BmcyQrq8Xlm",
        "outputId": "8030f6d5-630d-4bdc-eecd-bf869e302699"
      },
      "source": [
        "ls\n"
      ],
      "execution_count": 31,
      "outputs": [
        {
          "output_type": "stream",
          "text": [
            " 1597649586415286675342481945175.jpg\n",
            " 15976496599228524200881062194187.jpg\n",
            " 15976497400927063895625924611213.jpg\n",
            " 15976497969077517774053707261476.jpg\n",
            " 15976498469777107776290978227381.jpg\n",
            " 15976498919421332716230429578789.jpg\n",
            " 20201009_235137.jpg\n",
            " 20201023_100032.jpg\n",
            " 20201023_100044.jpg\n",
            " 20201023_115843.jpg\n",
            " 20201027_095634.jpg\n",
            " 20201027_095657.jpg\n",
            " 20201027_095811.jpg\n",
            " 20201027_101115.jpg\n",
            " 20201027_101207.jpg\n",
            " 20201027_101211.jpg\n",
            " 20201027_101230.jpg\n",
            " 20210309_020012.jpg\n",
            "'247588_Kushagra_Bahl_FeeReceipt_ExportToPDF (1).pdf'\n",
            " 247588_Kushagra_Bahl_FeeReceipt_ExportToPDF.pdf\n",
            "'An Adventure of Don Quixote (1).docx'\n",
            "'An Adventure of Don Quixote.docx'\n",
            "'Any no x Teens, Teens x Teens & Any no x 11.gdoc'\n",
            "'Any no x Teens, Teens x Teens & Any no x 11.pdf'\n",
            "'CamScanner 09-26-2020 15.23.28.gdoc'\n",
            " chrun_model.h5\n",
            " Churn_Modelling.csv\n",
            " \u001b[0m\u001b[01;34mClassroom\u001b[0m/\n",
            "'Class V Activity Sheet (1).gdoc'\n",
            "'Class V Activity Sheet (2).gdoc'\n",
            "'Class V Activity Sheet (3).gdoc'\n",
            "'Class V Activity Sheet (4).gdoc'\n",
            "'Class V Activity Sheet.gdoc'\n",
            "\u001b[01;34m'Colab Notebooks'\u001b[0m/\n",
            "'Copy of DTs and RFs - IBM attrition dataset.ipynb'\n",
            "'DAILY PLANNER 15_6_2021.docx'\n",
            "'ELD Worksheet- Tenses.gdoc'\n",
            " feature_scaling_model.pkl\n",
            "'Fly in Sky (10).gdoc'\n",
            "'Fly in Sky (11).gdoc'\n",
            "'Fly in Sky (12).gdoc'\n",
            "'Fly in Sky (13).gdoc'\n",
            "'Fly in Sky (14).gdoc'\n",
            "'Fly in Sky (15).gdoc'\n",
            "'Fly in Sky (16).gdoc'\n",
            "'Fly in Sky (17).gdoc'\n",
            "'Fly in Sky (18).gdoc'\n",
            "'Fly in Sky (19).gdoc'\n",
            "'Fly in Sky (1).docx'\n",
            "'Fly in Sky (1).gdoc'\n",
            "'Fly in Sky (20).gdoc'\n",
            "'Fly in Sky (21).gdoc'\n",
            "'Fly in Sky (22).gdoc'\n",
            "'Fly in Sky (23).gdoc'\n",
            "'Fly in Sky (24).gdoc'\n",
            "'Fly in Sky (25).gdoc'\n",
            "'Fly in Sky (2).docx'\n",
            "'Fly in Sky (2).gdoc'\n",
            "'Fly in Sky (3).gdoc'\n",
            "'Fly in Sky (4).gdoc'\n",
            "'Fly in Sky (5).gdoc'\n",
            "'Fly in Sky (6).gdoc'\n",
            "'Fly in Sky (7).gdoc'\n",
            "'Fly in Sky (8).gdoc'\n",
            "'Fly in Sky (9).gdoc'\n",
            "'Fly in Sky.docx'\n",
            "'Fly in Sky.gdoc'\n",
            "'fut-tqcs-kdz - Apr 22, 2021.gjam'\n",
            "'fut-tqcs-kdz - Jun 14, 2021.gjam'\n",
            "'G 5 Notes The UNO.docx'\n",
            "'G 5 Notes The UNO.gdoc'\n",
            "'Getting started.pdf'\n",
            "'Grade-5 रिवीजन प्रैक्टिस शीट 1.gdoc'\n",
            "'Grade V Practice Worksheet.gdoc'\n",
            "'Grade V Practice Worksheet_KUSHAGRA 5.docx'\n",
            " happy-birthday-cake-candles-gift-boxes-balloons-vector-31109539.jpg\n",
            "'Hindi Vayaam 1.gdoc'\n",
            "'Hindi Vayaam 1 _kushagra.pdf'\n",
            " IMG-20170512-WA0005.jpg\n",
            " IMG-20200823-WA0007.jpg\n",
            " IMG-20201125-WA0001.jpg\n",
            " invitation1.docx\n",
            " kushagra_5C_invitation1.docx\n",
            " kushagra_english_workbook.pdf\n",
            "'Kushagra_EVS_The Constitution of India.pdf'\n",
            "'kushagra_EVS_workbook and notebook.pdf'\n",
            "'kushagra_EVS_workbook,textbook and notebook notes.pdf'\n",
            " kushagra_hindi.docx\n",
            "'kushagra_hindi_notebook notes.pdf'\n",
            " KUSHAGRA_HINDI_WORKSHEET.pdf\n",
            " kushagra_marathi_notebook.pdf\n",
            "'Kushagra_marathi_notes of notebook and workbook.pdf'\n",
            "'Kushagra_Maths_Notebook and workbook notes.pdf'\n",
            " kushagra_maths_workbook.pdf\n",
            "'Mala kahi nahi Dya (1).gdoc'\n",
            "'Mala kahi nahi Dya (2).gdoc'\n",
            "'Mala kahi nahi Dya.gdoc'\n",
            "'Mala kahi nahi Dya.pdf'\n",
            " mathsqb.pdf\n",
            "'Msg_118_111688_8273bc33-45c7-43eb-bb24-4bf6e6b2143f_class 3 Revision4 pdf.pdf'\n",
            "'Notes EVS Lat and Longi.gdoc'\n",
            " sportspers_kushagra.jpg\n",
            "'tnh-nwoj-htc - Apr 22, 2021 (1).gjam'\n",
            "'tnh-nwoj-htc - Apr 22, 2021 (2).gjam'\n",
            "'tnh-nwoj-htc - Apr 22, 2021.gjam'\n",
            "'tnh-nwoj-htc - Jun 14, 2021 (1).gjam'\n",
            "'tnh-nwoj-htc - Jun 14, 2021.gjam'\n",
            "'ucj-biwc-uhz - Apr 22, 2021.gjam'\n",
            "'Undertaking from parents for children skipping a previous level.docx'\n",
            "'WhatsApp Video 2020-07-09 at 08.49.20.mp4'\n"
          ],
          "name": "stdout"
        }
      ]
    },
    {
      "cell_type": "code",
      "metadata": {
        "id": "yyJbseWVAla5"
      },
      "source": [
        "from tensorflow.keras.models import load_model\n",
        "loaded_model=load_model('chrun_model.h5')"
      ],
      "execution_count": 34,
      "outputs": []
    },
    {
      "cell_type": "code",
      "metadata": {
        "id": "MvUl3ZYPAlfL",
        "colab": {
          "base_uri": "https://localhost:8080/"
        },
        "outputId": "adaa878e-5bd8-49c1-fc8a-3732d2f4df1e"
      },
      "source": [
        "sc  = joblib.load('feature_scaling_model.pkl')\n",
        "data = sc.transform([[5,2,1,100,1,1,1,8,1,1,9]])\n",
        "a = loaded_model.predict(data)\n",
        "a[0] > 0.7"
      ],
      "execution_count": 35,
      "outputs": [
        {
          "output_type": "execute_result",
          "data": {
            "text/plain": [
              "array([False])"
            ]
          },
          "metadata": {
            "tags": []
          },
          "execution_count": 35
        }
      ]
    },
    {
      "cell_type": "code",
      "metadata": {
        "id": "xLBwtgX_Alm4"
      },
      "source": [
        "a = (a[0] > 0.7)[0]"
      ],
      "execution_count": 36,
      "outputs": []
    },
    {
      "cell_type": "code",
      "metadata": {
        "id": "scUyX-ScAlrW",
        "colab": {
          "base_uri": "https://localhost:8080/"
        },
        "outputId": "1c6143fe-ccaf-44f9-de0a-4471ac150512"
      },
      "source": [
        "if a == False:\n",
        "  print('he will not leave')\n",
        "else:\n",
        "  print('he will lrave')"
      ],
      "execution_count": 38,
      "outputs": [
        {
          "output_type": "stream",
          "text": [
            "he will not leave\n"
          ],
          "name": "stdout"
        }
      ]
    },
    {
      "cell_type": "code",
      "metadata": {
        "colab": {
          "base_uri": "https://localhost:8080/"
        },
        "id": "TqcakfUR6VKj",
        "outputId": "4763212a-d0e9-4009-e55e-7452e710de1f"
      },
      "source": [
        "model.summary()"
      ],
      "execution_count": 39,
      "outputs": [
        {
          "output_type": "stream",
          "text": [
            "Model: \"sequential\"\n",
            "_________________________________________________________________\n",
            "Layer (type)                 Output Shape              Param #   \n",
            "=================================================================\n",
            "dense (Dense)                (None, 100)               1200      \n",
            "_________________________________________________________________\n",
            "dense_1 (Dense)              (None, 50)                5050      \n",
            "_________________________________________________________________\n",
            "dense_2 (Dense)              (None, 25)                1275      \n",
            "_________________________________________________________________\n",
            "dense_3 (Dense)              (None, 1)                 26        \n",
            "=================================================================\n",
            "Total params: 7,551\n",
            "Trainable params: 7,551\n",
            "Non-trainable params: 0\n",
            "_________________________________________________________________\n"
          ],
          "name": "stdout"
        }
      ]
    }
  ]
}